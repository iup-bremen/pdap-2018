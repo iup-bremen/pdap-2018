{
 "cells": [
  {
   "cell_type": "markdown",
   "metadata": {},
   "source": [
    "# PDAP-2018: Exam Homework Exercise 1\n",
    "\n",
    "## Summer term 2018\n",
    "### University of Bremen / Dr. Andreas Hilboll"
   ]
  },
  {
   "cell_type": "markdown",
   "metadata": {},
   "source": [
    "This is the first graded homework assignment for the course *Practical Data Analysis with Python*.  There will be two more graded homework assignment later during the semester; your total course grade will consist of the aggregated grades of all threehomework assignments.\n",
    "\n",
    "## Rules and regulations\n",
    "\n",
    "### When to submit\n",
    "This homework must be submitted by Tuesday, 22 May 2018, 08:00:00 CET\n",
    "\n",
    "### How to submit\n",
    "For now, you can submit this homework assignment by sending the Jupyter notebook (`.ipynb` file) to [hilboll@uni-bremen.de](mailto:hilboll@uni-bremen.de).\n",
    "\n",
    "I will post instructions on how to submit your assignment via GitHub later.\n",
    "\n",
    "**Note:** It is *your* responsibility to make sure that your homework submission reaches me in time.  If in doubt, submit early and ask me if I received your file.\n",
    "\n",
    "### Technical requirements\n",
    "Your solution has to be written to this Jupyter Notebook.  Please rename the notebook so that your last name(s) is/are included in the filename.  Your solution has to consist of exactly one (i.e., this) file.\n",
    "\n",
    "### Study groups\n",
    "You are allowed to complete this homework assignment either alone or in groups of up to two students.  In case you do not do your homework alone, please clearly state who has contributed how much to which part of the homework.\n",
    "\n",
    "### Discussion\n",
    "At the end of the semester, there will be a separate ~20 minute oral discussion for each study group, in which all students are expected be able to demonstrate that they understand the code they submitted.\n",
    "\n",
    "### Using internet resources\n",
    "You are allowed to use book and/or internet resources to complete this homework assignment.  However, you are expected to a) clearly state any reference you have used to complete the assigment (e.g., by giving the URL to a website in a code comment), and b) to be able to explain the code you are writing.\n",
    "\n",
    "### Evaluation criteria\n",
    "You will be graded on all *tasks* laid out below.  There are some possibilities to earn extra credit, clearly indicated in the task description."
   ]
  },
  {
   "cell_type": "markdown",
   "metadata": {},
   "source": [
    "## Background\n",
    "\n",
    "Ozone is often measured using [ozonesondes](https://www.esrl.noaa.gov/gmd/ozwv/ozsondes/).  \n",
    "\n",
    "In this assignment, you will work with ozonesonde measurements from the [Oberpreissenberg observatory](https://www.dwd.de/EN/research/observing_atmosphere/composition_atmosphere/hohenpeissenberg/start_mohp_node.html) in Southern Germany.  The data are available from the [World Ozone and Ultraviolet Radiation Data Centre](https://woudc.org/data/explore.php).\n",
    "\n",
    "\n",
    "## Obtaining the data files\n",
    "\n",
    "The data files needed for this assignment can be downloaded at https://seafile.zfn.uni-bremen.de/f/4579f0c70b0d4368a610/.  Unpack that `.zip` archive to a folder somewhere on your harddrive.\n",
    "\n",
    "\n",
    "## Technical comments\n",
    "\n",
    "- The filename of the data files (`*.csv`) contains information about the date of the flight in its first 8 characters.\n",
    "- The data files contain a lot of metadata which is of no interest in this assignment.  The data that you're interested in comes after the line `#PROFILE`, with one row per individual measurement."
   ]
  },
  {
   "cell_type": "markdown",
   "metadata": {},
   "source": [
    "## Task 0: Participants\n",
    "\n",
    "Please fill in your personal details into the following table:\n",
    "\n",
    "| Last name | First name | Study program | Student ID |\n",
    "|-----------|------------|---------------|------------|\n",
    "| Kattamuri | Siva       | PEP           | 3085574    |\n"
   ]
  },
  {
   "cell_type": "markdown",
   "metadata": {},
   "source": [
    "## Task 1: Read the measurements contained in one single data file into a `pandas.DataFrame`\n",
    "\n",
    "Use the function `pandas.read_csv()` to load the data contained in *one single* data file into a `pandas.DataFrame`.  The `DataFrame` should only have the three columns *air_pressure*, *ozone_partial_pressure*, and *air_temperature*, because we are only interested in those three variables.\n",
    "\n",
    "**Hint:**\n",
    "- You can use the `skiprows` argument to the `read_csv` function"
   ]
  },
  {
   "cell_type": "code",
   "execution_count": 55,
   "metadata": {
    "collapsed": true
   },
   "outputs": [
    {
     "data": {
      "text/html": [
       "<div>\n",
       "<style scoped>\n",
       "    .dataframe tbody tr th:only-of-type {\n",
       "        vertical-align: middle;\n",
       "    }\n",
       "\n",
       "    .dataframe tbody tr th {\n",
       "        vertical-align: top;\n",
       "    }\n",
       "\n",
       "    .dataframe thead th {\n",
       "        text-align: right;\n",
       "    }\n",
       "</style>\n",
       "<table border=\"1\" class=\"dataframe\">\n",
       "  <thead>\n",
       "    <tr style=\"text-align: right;\">\n",
       "      <th></th>\n",
       "      <th>Pressure</th>\n",
       "      <th>O3PartialPressure</th>\n",
       "      <th>Temperature</th>\n",
       "    </tr>\n",
       "  </thead>\n",
       "  <tbody>\n",
       "    <tr>\n",
       "      <th>0</th>\n",
       "      <td>904.48</td>\n",
       "      <td>1.22</td>\n",
       "      <td>-5.9</td>\n",
       "    </tr>\n",
       "    <tr>\n",
       "      <th>1</th>\n",
       "      <td>899.22</td>\n",
       "      <td>1.33</td>\n",
       "      <td>-6.8</td>\n",
       "    </tr>\n",
       "    <tr>\n",
       "      <th>2</th>\n",
       "      <td>893.73</td>\n",
       "      <td>1.45</td>\n",
       "      <td>-6.0</td>\n",
       "    </tr>\n",
       "    <tr>\n",
       "      <th>3</th>\n",
       "      <td>887.93</td>\n",
       "      <td>1.67</td>\n",
       "      <td>-5.4</td>\n",
       "    </tr>\n",
       "    <tr>\n",
       "      <th>4</th>\n",
       "      <td>883.18</td>\n",
       "      <td>1.95</td>\n",
       "      <td>-5.0</td>\n",
       "    </tr>\n",
       "  </tbody>\n",
       "</table>\n",
       "</div>"
      ],
      "text/plain": [
       "   Pressure  O3PartialPressure  Temperature\n",
       "0    904.48               1.22         -5.9\n",
       "1    899.22               1.33         -6.8\n",
       "2    893.73               1.45         -6.0\n",
       "3    887.93               1.67         -5.4\n",
       "4    883.18               1.95         -5.0"
      ]
     },
     "execution_count": 55,
     "metadata": {},
     "output_type": "execute_result"
    }
   ],
   "source": [
    "import pandas as pd\n",
    "file= '20180205.brewer-mast.na.na.dwd-mohp.csv'\n",
    "data=pd.read_csv(file,skiprows=36)\n",
    "data1=data.loc[:,'Pressure':'Temperature']  \n",
    "data1.head()"
   ]
  },
  {
   "cell_type": "markdown",
   "metadata": {},
   "source": [
    "## Task 2: Plot the ozone measurements from one day\n",
    "\n",
    "Create a plot of pressure (on the y-axis) vs. temperature (on the x-axis) for the data you loaded in the previous task."
   ]
  },
  {
   "cell_type": "code",
   "execution_count": 56,
   "metadata": {},
   "outputs": [
    {
     "data": {
      "text/plain": [
       "[<matplotlib.lines.Line2D at 0x7f903598d0b8>]"
      ]
     },
     "execution_count": 56,
     "metadata": {},
     "output_type": "execute_result"
    },
    {
     "data": {
      "image/png": "[encoded data removed]",
      "text/plain": [
       "<matplotlib.figure.Figure at 0x7f9035b289b0>"
      ]
     },
     "metadata": {},
     "output_type": "display_data"
    }
   ],
   "source": [
    "%matplotlib inline\n",
    "import matplotlib.pyplot as plt\n",
    "\n",
    "#slicing the pressure and temperature columns and assigning variables to them\n",
    "pre = data1.loc[:,'Pressure']\n",
    "temp=data1.loc[:,'Temperature']\n",
    "\n",
    "#plotting the two variables \n",
    "plt.plot(temp,pre)"
   ]
  },
  {
   "cell_type": "markdown",
   "metadata": {},
   "source": [
    "## Task 2x (extra credit): Make the plot prettier\n",
    "\n",
    "As above, but make sure that\n",
    "\n",
    "- the plot contains labels on the x- and y-axes, so that the reader can better understand what the plot is showing\n",
    "- the y-axis goes from surface (at the bottom) to top-of-atmosphere (at the top) instead of the other way around, so that the plot is more intuitive"
   ]
  },
  {
   "cell_type": "code",
   "execution_count": 57,
   "metadata": {},
   "outputs": [
    {
     "data": {
      "text/plain": [
       "Text(0,0.5,'Air Pressure [hPa]')"
      ]
     },
     "execution_count": 57,
     "metadata": {},
     "output_type": "execute_result"
    },
    {
     "data": {
      "image/png": "[encoded data removed]",
      "text/plain": [
       "<matplotlib.figure.Figure at 0x7f9035f3f080>"
      ]
     },
     "metadata": {},
     "output_type": "display_data"
    }
   ],
   "source": [
    "%matplotlib inline\n",
    "import matplotlib.pyplot as plt\n",
    "plt.plot(temp,pre)\n",
    "\n",
    "#changing the order of y-axis limits\n",
    "plt.ylim(max(pre),0)\n",
    "\n",
    "#labelling x and y axes in the plot\n",
    "plt.xlabel('Temperature [ºC]')\n",
    "plt.ylabel('Air Pressure [hPa]')"
   ]
  },
  {
   "cell_type": "markdown",
   "metadata": {},
   "source": [
    "## Task 3: Calculate ozone mixing ratio\n",
    "\n",
    "1. Calculate the ozone mixing ratio (in *ppm*) for each measurement from the file you opened above.\n",
    "2. Add the ozone mixing ratio as an additional column to your `DataFrame`\n",
    "3. Create a plot of pressure (on the y-axis) vs. ozone mixing ratio (on the x-axis).\n",
    "\n",
    "**Hint:**\n",
    "\n",
    "- You can calculate the mixing ratio as $\\frac{O_3\\ partial\\ pressure}{air\\ pressure}$"
   ]
  },
  {
   "cell_type": "code",
   "execution_count": 58,
   "metadata": {},
   "outputs": [
    {
     "data": {
      "text/plain": [
       "0    0.013488\n",
       "1    0.014791\n",
       "2    0.016224\n",
       "3    0.018808\n",
       "4    0.022079\n",
       "dtype: float64"
      ]
     },
     "execution_count": 58,
     "metadata": {},
     "output_type": "execute_result"
    }
   ],
   "source": [
    "# 1)calculating ozone mixing ratio in ppm\n",
    "\n",
    "O3pp=data1.loc[:,'O3PartialPressure']\n",
    "\n",
    "#Units of ozone partial pressure (O3pp) are in mPa\n",
    "#Ozone_mixing_ratio = O3pp[mPa]/pre[hpa] = (O3pp/pre)* (10**-5)\n",
    "#Ozone_mixing_ratio in ppm = (O3pp/pre)*(10**-5)*(10**6) = (O3pp/pre)*10\n",
    "\n",
    "Ozone_mixing_ratio = (O3pp/pre)*10\n",
    "Ozone_mixing_ratio.head()"
   ]
  },
  {
   "cell_type": "code",
   "execution_count": 59,
   "metadata": {},
   "outputs": [
    {
     "data": {
      "text/html": [
       "<div>\n",
       "<style scoped>\n",
       "    .dataframe tbody tr th:only-of-type {\n",
       "        vertical-align: middle;\n",
       "    }\n",
       "\n",
       "    .dataframe tbody tr th {\n",
       "        vertical-align: top;\n",
       "    }\n",
       "\n",
       "    .dataframe thead th {\n",
       "        text-align: right;\n",
       "    }\n",
       "</style>\n",
       "<table border=\"1\" class=\"dataframe\">\n",
       "  <thead>\n",
       "    <tr style=\"text-align: right;\">\n",
       "      <th></th>\n",
       "      <th>Pressure</th>\n",
       "      <th>O3PartialPressure</th>\n",
       "      <th>Temperature</th>\n",
       "      <th>Ozone Mixing Ratio</th>\n",
       "    </tr>\n",
       "  </thead>\n",
       "  <tbody>\n",
       "    <tr>\n",
       "      <th>0</th>\n",
       "      <td>904.48</td>\n",
       "      <td>1.22</td>\n",
       "      <td>-5.9</td>\n",
       "      <td>0.013488</td>\n",
       "    </tr>\n",
       "    <tr>\n",
       "      <th>1</th>\n",
       "      <td>899.22</td>\n",
       "      <td>1.33</td>\n",
       "      <td>-6.8</td>\n",
       "      <td>0.014791</td>\n",
       "    </tr>\n",
       "    <tr>\n",
       "      <th>2</th>\n",
       "      <td>893.73</td>\n",
       "      <td>1.45</td>\n",
       "      <td>-6.0</td>\n",
       "      <td>0.016224</td>\n",
       "    </tr>\n",
       "    <tr>\n",
       "      <th>3</th>\n",
       "      <td>887.93</td>\n",
       "      <td>1.67</td>\n",
       "      <td>-5.4</td>\n",
       "      <td>0.018808</td>\n",
       "    </tr>\n",
       "    <tr>\n",
       "      <th>4</th>\n",
       "      <td>883.18</td>\n",
       "      <td>1.95</td>\n",
       "      <td>-5.0</td>\n",
       "      <td>0.022079</td>\n",
       "    </tr>\n",
       "  </tbody>\n",
       "</table>\n",
       "</div>"
      ],
      "text/plain": [
       "   Pressure  O3PartialPressure  Temperature  Ozone Mixing Ratio\n",
       "0    904.48               1.22         -5.9            0.013488\n",
       "1    899.22               1.33         -6.8            0.014791\n",
       "2    893.73               1.45         -6.0            0.016224\n",
       "3    887.93               1.67         -5.4            0.018808\n",
       "4    883.18               1.95         -5.0            0.022079"
      ]
     },
     "execution_count": 59,
     "metadata": {},
     "output_type": "execute_result"
    }
   ],
   "source": [
    "# 2)adding Ozone_mixing_ratio as an additional column to the dataframe \n",
    "\n",
    "data1.loc[:,'Ozone Mixing Ratio'] = Ozone_mixing_ratio\n",
    "data1.head()"
   ]
  },
  {
   "cell_type": "code",
   "execution_count": 60,
   "metadata": {},
   "outputs": [
    {
     "data": {
      "text/plain": [
       "Text(0,0.5,'Air Pressure [hPa]')"
      ]
     },
     "execution_count": 60,
     "metadata": {},
     "output_type": "execute_result"
    },
    {
     "data": {
      "image/png": "[encoded data removed]",
      "text/plain": [
       "<matplotlib.figure.Figure at 0x7f9035946eb8>"
      ]
     },
     "metadata": {},
     "output_type": "display_data"
    }
   ],
   "source": [
    "# 3)plotting pressure vs ozone mixing ratio\n",
    "\n",
    "import matplotlib.pyplot as plt\n",
    "plt.plot(Ozone_mixing_ratio,pre)\n",
    "plt.ylim(max(pre),0)\n",
    "plt.xlabel('Ozone mixing ratio [ppm]')\n",
    "plt.ylabel('Air Pressure [hPa]')"
   ]
  },
  {
   "cell_type": "markdown",
   "metadata": {},
   "source": [
    "## Task 4: Calculate statistics for one sonde flight\n",
    "\n",
    "Write a function that takes a filename as its only input, and which returns the minimum, maximum, and average ozone mixing ratio.\n",
    "\n",
    "Use this function to calculate these statistics for one of the data files."
   ]
  },
  {
   "cell_type": "code",
   "execution_count": 61,
   "metadata": {},
   "outputs": [
    {
     "data": {
      "text/plain": [
       "[[0.00521081632426799], [9.473684210526315], [2.8779544092932365]]"
      ]
     },
     "execution_count": 61,
     "metadata": {},
     "output_type": "execute_result"
    }
   ],
   "source": [
    "def cal_o3_statistics(filename):\n",
    "    data2= pd.read_csv(filename,skiprows=36)\n",
    "    pre2 = data2.loc[:,'Pressure']\n",
    "    O3pp2= data2.loc[:,'O3PartialPressure']\n",
    "    Ozone_mixing_ratio2 = (O3pp2/pre2)*10\n",
    "    minimum=[Ozone_mixing_ratio2.min()]\n",
    "    maximum=[Ozone_mixing_ratio2.max()]\n",
    "    average=[Ozone_mixing_ratio2.mean()]\n",
    "    return [minimum, maximum, average]\n",
    "\n",
    "cal_o3_statistics('20180209.brewer-mast.na.na.dwd-mohp.csv')"
   ]
  },
  {
   "cell_type": "markdown",
   "metadata": {},
   "source": [
    "## Task 5: Calculate statistics for all sonde flights\n",
    "\n",
    "Using a *for-loop* and the function you wrote above, create a list which contains, for all the data files, the maximum of the respective sonde flight.  So if, e.g., there were 10 data files, the list should have 10 elements.  The list should have the maxmimum from the *first* data file as its first element, and the maximum from the *last* data file as its last element.\n",
    "\n",
    "**Hint:**\n",
    "- You can use the `.sort()` method of a list."
   ]
  },
  {
   "cell_type": "code",
   "execution_count": 62,
   "metadata": {},
   "outputs": [
    {
     "name": "stdout",
     "output_type": "stream",
     "text": [
      "[7.526555386949925, 7.011406844106464, 6.197740112994351, 9.473684210526315, 6.646928201332347, 5.6212191717077715, 6.741682974559686, 8.289322617680826, 6.523400191021968, 7.347130761994355, 6.648480124707715, 5.722423614707406]\n"
     ]
    }
   ],
   "source": [
    "import glob\n",
    "flight=glob.glob('*.brewer-mast.na.na.dwd-mohp.csv')\n",
    "flight.sort()\n",
    "flight\n",
    "\n",
    "maximum_values=[]\n",
    "for csvfile in flight:\n",
    "    max_value = cal_o3_statistics(csvfile)[1]\n",
    "    maximum_values.extend(max_value)\n",
    "print(maximum_values)      "
   ]
  },
  {
   "cell_type": "code",
   "execution_count": 63,
   "metadata": {},
   "outputs": [
    {
     "data": {
      "text/plain": [
       "['20180202.brewer-mast.na.na.dwd-mohp.csv',\n",
       " '20180205.brewer-mast.na.na.dwd-mohp.csv',\n",
       " '20180207.brewer-mast.na.na.dwd-mohp.csv',\n",
       " '20180209.brewer-mast.na.na.dwd-mohp.csv',\n",
       " '20180212.brewer-mast.na.na.dwd-mohp.csv',\n",
       " '20180214.brewer-mast.na.na.dwd-mohp.csv',\n",
       " '20180216.brewer-mast.na.na.dwd-mohp.csv',\n",
       " '20180219.brewer-mast.na.na.dwd-mohp.csv',\n",
       " '20180221.brewer-mast.na.na.dwd-mohp.csv',\n",
       " '20180223.brewer-mast.na.na.dwd-mohp.csv',\n",
       " '20180226.brewer-mast.na.na.dwd-mohp.csv',\n",
       " '20180228.brewer-mast.na.na.dwd-mohp.csv']"
      ]
     },
     "execution_count": 63,
     "metadata": {},
     "output_type": "execute_result"
    }
   ],
   "source": [
    "flight"
   ]
  },
  {
   "cell_type": "markdown",
   "metadata": {},
   "source": [
    "## Task 6: Plot statistics for all sonde flights\n",
    "\n",
    "Create a plot of maximum ozone mixing ratio (on the y-axis) vs. sonde flight (on the x-axis)."
   ]
  },
  {
   "cell_type": "code",
   "execution_count": 64,
   "metadata": {},
   "outputs": [
    {
     "data": {
      "text/plain": [
       "[<matplotlib.lines.Line2D at 0x7f9035898160>]"
      ]
     },
     "execution_count": 64,
     "metadata": {},
     "output_type": "execute_result"
    },
    {
     "data": {
      "image/png": "[encoded data removed]",
      "text/plain": [
       "<matplotlib.figure.Figure at 0x7f90358cda90>"
      ]
     },
     "metadata": {},
     "output_type": "display_data"
    }
   ],
   "source": [
    "import matplotlib.pyplot as plt\n",
    "plt.plot(flight,maximum_values)"
   ]
  },
  {
   "cell_type": "markdown",
   "metadata": {},
   "source": [
    "## Task 6x (extra credit): Make the plot prettier\n",
    "\n",
    "As above, but label the x- and y-axes.  Also, have the *date* of the measurement (which is part of the filename) as tick labels on the x-axis instead of the filename.  The date should be formatted as \"DD MMM\" (e.g., *02 Feb*).\n",
    "\n",
    "**Hint:**\n",
    "- You can use `datetime.datetime.strptime` to create a *datetime* object from a string, and then use the datetime's `.strftime()` method to create a formatted string from the datetime object."
   ]
  },
  {
   "cell_type": "code",
   "execution_count": 65,
   "metadata": {},
   "outputs": [
    {
     "name": "stdout",
     "output_type": "stream",
     "text": [
      "20180205\n"
     ]
    },
    {
     "data": {
      "text/plain": [
       "str"
      ]
     },
     "execution_count": 65,
     "metadata": {},
     "output_type": "execute_result"
    }
   ],
   "source": [
    "#converting the filename string into a date string\n",
    "#source: https://www.tutorialspoint.com/How-to-extract-date-from-a-string-in-Python\n",
    "import re\n",
    "name='20180205.brewer-mast.na.na.dwd-mohp.csv'\n",
    "match=re.search('\\d{8}',name)\n",
    "match= match.group()\n",
    "print(match)\n",
    "type(match)"
   ]
  },
  {
   "cell_type": "code",
   "execution_count": 66,
   "metadata": {},
   "outputs": [
    {
     "name": "stdout",
     "output_type": "stream",
     "text": [
      "2018-02-05 00:00:00\n"
     ]
    },
    {
     "data": {
      "text/plain": [
       "datetime.datetime"
      ]
     },
     "execution_count": 66,
     "metadata": {},
     "output_type": "execute_result"
    }
   ],
   "source": [
    "#converting a date string into a datetime object\n",
    "#source: https://www.tutorialspoint.com/How-to-extract-date-from-a-string-in-Python\n",
    "import datetime\n",
    "date1=datetime.datetime.strptime(match, '%Y%m%d')\n",
    "print(date1)\n",
    "type(date1)"
   ]
  },
  {
   "cell_type": "code",
   "execution_count": 67,
   "metadata": {},
   "outputs": [
    {
     "name": "stdout",
     "output_type": "stream",
     "text": [
      "05 Feb\n"
     ]
    },
    {
     "data": {
      "text/plain": [
       "str"
      ]
     },
     "execution_count": 67,
     "metadata": {},
     "output_type": "execute_result"
    }
   ],
   "source": [
    "#creating a formatted string from a date time object\n",
    "date1=date1.strftime('%d %b')\n",
    "print(date1)\n",
    "type(date1)"
   ]
  },
  {
   "cell_type": "code",
   "execution_count": 68,
   "metadata": {},
   "outputs": [
    {
     "name": "stdout",
     "output_type": "stream",
     "text": [
      "['02 Feb', '05 Feb', '07 Feb', '09 Feb', '12 Feb', '14 Feb', '16 Feb', '19 Feb', '21 Feb', '23 Feb', '26 Feb', '28 Feb']\n"
     ]
    }
   ],
   "source": [
    "#using all the above statements in one loop\n",
    "\n",
    "import re\n",
    "import datetime\n",
    "dt=[]\n",
    "for name in flight:\n",
    "    match=re.search('\\d{8}',name)\n",
    "    match= match.group()\n",
    "    date1=datetime.datetime.strptime(match, '%Y%m%d')\n",
    "    date1=[date1.strftime('%d %b')]\n",
    "    dt.extend(date1)\n",
    "print(dt)"
   ]
  },
  {
   "cell_type": "code",
   "execution_count": 69,
   "metadata": {},
   "outputs": [
    {
     "data": {
      "text/plain": [
       "([0, 1, 2, 3, 4, 5, 6, 7, 8, 9, 10, 11],\n",
       " <a list of 12 Text xticklabel objects>)"
      ]
     },
     "execution_count": 69,
     "metadata": {},
     "output_type": "execute_result"
    },
    {
     "data": {
      "image/png": "[encoded data removed]",
      "text/plain": [
       "<matplotlib.figure.Figure at 0x7f90359952b0>"
      ]
     },
     "metadata": {},
     "output_type": "display_data"
    }
   ],
   "source": [
    "#plotting the date vs maximum ozone mixing ratio\n",
    "\n",
    "plt.plot(dt,maximum_values)\n",
    "plt.xlabel('Sonde flight')\n",
    "plt.ylabel('Maximum O3 Mixing ratio')\n",
    "plt.xticks(rotation=90)"
   ]
  },
  {
   "cell_type": "markdown",
   "metadata": {},
   "source": [
    "## Task 7: Plot all data\n",
    "\n",
    "Using a *for-loop*, create a plot of pressure (on the y-axis) vs. ozone mixing ratio (on the x-axis), with one separate line for each of the sonde flights.  Create a legend which shows the date corresponding to each line.  If possible, give the legend the title *Date*.\n",
    "\n",
    "**Hint:**\n",
    "- Don't worry if the legend takes up almost all the space and nothing is really visible."
   ]
  },
  {
   "cell_type": "code",
   "execution_count": 70,
   "metadata": {},
   "outputs": [
    {
     "data": {
      "image/png": "[encoded data removed]",
      "text/plain": [
       "<matplotlib.figure.Figure at 0x7f90358b7978>"
      ]
     },
     "metadata": {},
     "output_type": "display_data"
    }
   ],
   "source": [
    "import pandas as pd\n",
    "import matplotlib.pyplot as plt\n",
    "dt=[]\n",
    "for csvfile in flight:\n",
    "    data=pd.read_csv(csvfile,skiprows=36)\n",
    "    pre = data.loc[:,'Pressure']\n",
    "    O3pp=data.loc[:,'O3PartialPressure']\n",
    "    Ozone_mixing_ratio = (O3pp/pre)*10\n",
    "    match=re.search('\\d{8}',csvfile)\n",
    "    match= match.group()\n",
    "    date1=datetime.datetime.strptime(match, '%Y%m%d')\n",
    "    date1=[date1.strftime('%d %b')]\n",
    "    dt.extend(date1)\n",
    "    plt.plot(Ozone_mixing_ratio,pre)\n",
    "    plt.ylim(max(pre),0)\n",
    "    plt.xlabel('Ozone mixing ratio [ppm]')\n",
    "    plt.ylabel('Air Pressure [hPa]')\n",
    "    plt.legend(dt,title='Date')  "
   ]
  },
  {
   "cell_type": "markdown",
   "metadata": {},
   "source": [
    "## Task 7x (extra credit): Plot only part of the data\n",
    "\n",
    "As above, but only plot the data which was measured on a *Wednesday*."
   ]
  },
  {
   "cell_type": "code",
   "execution_count": 71,
   "metadata": {},
   "outputs": [
    {
     "data": {
      "image/png": "[encoded data removed]",
      "text/plain": [
       "<matplotlib.figure.Figure at 0x7f90356d2b38>"
      ]
     },
     "metadata": {},
     "output_type": "display_data"
    }
   ],
   "source": [
    "import pandas as pd\n",
    "import matplotlib.pyplot as plt\n",
    "dt=[]\n",
    "for csvfile in flight:\n",
    "    data=pd.read_csv(csvfile,skiprows=36)\n",
    "    pre = data.loc[:,'Pressure']\n",
    "    O3pp=data.loc[:,'O3PartialPressure']\n",
    "    Ozone_mixing_ratio = (O3pp/pre)*10\n",
    "    match=re.search('\\d{8}',csvfile)\n",
    "    match= match.group()\n",
    "    date1=datetime.datetime.strptime(match, '%Y%m%d')\n",
    "    date2=[date1.strftime('%d %b')]\n",
    "    date3=[date1.strftime('%A-%d-%b')]\n",
    "    if 'Wednesday' in date3[0]:\n",
    "        dt.extend(date3)\n",
    "        plt.plot(Ozone_mixing_ratio,pre)\n",
    "        plt.ylim(max(pre),0)\n",
    "        plt.xlabel('Ozone mixing ratio [ppm]')\n",
    "        plt.ylabel('Air Pressure [hPa]')\n",
    "        plt.legend(dt,title='Date')        "
   ]
  },
  {
   "cell_type": "markdown",
   "metadata": {},
   "source": [
    "### The End ###"
   ]
  }
 ],
 "metadata": {
  "kernelspec": {
   "display_name": "Python 3",
   "language": "python",
   "name": "python3"
  },
  "language_info": {
   "codemirror_mode": {
    "name": "ipython",
    "version": 3
   },
   "file_extension": ".py",
   "mimetype": "text/x-python",
   "name": "python",
   "nbconvert_exporter": "python",
   "pygments_lexer": "ipython3",
   "version": "3.6.5"
  }
 },
 "nbformat": 4,
 "nbformat_minor": 2
}

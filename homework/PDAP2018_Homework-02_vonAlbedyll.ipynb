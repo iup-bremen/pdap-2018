{
 "cells": [
  {
   "cell_type": "markdown",
   "metadata": {},
   "source": [
    "# Practical Data Analysis with Python / Summer 2018: Homework assignment 2"
   ]
  },
  {
   "cell_type": "markdown",
   "metadata": {},
   "source": [
    "## Preliminaries\n",
    "\n",
    "Please write your name(s) and matriculatrion number(s) in the following *markdown* cell:"
   ]
  },
  {
   "cell_type": "markdown",
   "metadata": {},
   "source": [
    "Luisa von Albedyll\n",
    "\n",
    "_Matriculation no_: 3031314"
   ]
  },
  {
   "cell_type": "markdown",
   "metadata": {},
   "source": [
    "## Exploring the `math` module\n",
    "\n",
    "Please answer these questions in the following *markdown* cell:\n",
    "\n",
    "1. What function from the math module can you use to calculate a square root without using `sqrt`?\n",
    "2. Since the library contains this function, why does `sqrt` exist?"
   ]
  },
  {
   "cell_type": "markdown",
   "metadata": {},
   "source": [
    "1. Using the fraction $$x^{\\frac{1}{2}}$$ as exponent, calculates the square root as well.\n",
    "\n",
    "$$\\sqrt(2) = 2^{\\frac{1}{2}}$$\n",
    "\n",
    "2. Using an fractional exponent is far more general and allows you to calculate not only square, but also other roots. However, as people most often use the square root, it might be that poeple put effort into a special function sqrt and sqrt was written in a way that it is faster than the more general exponent way."
   ]
  },
  {
   "cell_type": "markdown",
   "metadata": {},
   "source": [
    "Now, please calculate the value of the following expression in the next code cell:\n",
    "\n",
    "$$\\frac{\\sin(23^\\circ)^\\frac{3}{2}}{\\tanh(0.432 \\cdot \\pi)}$$"
   ]
  },
  {
   "cell_type": "code",
   "execution_count": null,
   "metadata": {},
   "outputs": [],
   "source": []
  },
  {
   "cell_type": "markdown",
   "metadata": {},
   "source": [
    "## Locating the Right Module\n",
    "\n",
    "Suppose that you want to select a random character from a string:\n",
    "\n",
    "    bases = 'ACTTGCTTGAC'\n",
    "\n",
    "Please answer these two questions in the following *markdown* cell:\n",
    "\n",
    "1. Which standard library module could help you?\n",
    "2. Which function would you select from that module? Are there alternatives?"
   ]
  },
  {
   "cell_type": "markdown",
   "metadata": {},
   "source": [
    "1. I could numpy and use the the random integer generator."
   ]
  },
  {
   "cell_type": "markdown",
   "metadata": {},
   "source": [
    "Now, try to write Python code that selects one random character from the string `bases` in the following *code* cell:"
   ]
  },
  {
   "cell_type": "code",
   "execution_count": 1,
   "metadata": {},
   "outputs": [],
   "source": [
    "import numpy as np"
   ]
  },
  {
   "cell_type": "code",
   "execution_count": 19,
   "metadata": {},
   "outputs": [
    {
     "name": "stdout",
     "output_type": "stream",
     "text": [
      "I will take the character at position 6\n",
      "The random character selected is: T\n"
     ]
    }
   ],
   "source": [
    "bases='ACTTGCTTAC'\n",
    "length=len(bases)\n",
    "char=np.random.randint(0,high=length+1)\n",
    "print(\"I will take the character at position\", char)\n",
    "print(\"The random character selected is:\", bases[char])"
   ]
  }
 ],
 "metadata": {
  "kernelspec": {
   "display_name": "Python 3",
   "language": "python",
   "name": "python3"
  },
  "language_info": {
   "codemirror_mode": {
    "name": "ipython",
    "version": 3
   },
   "file_extension": ".py",
   "mimetype": "text/x-python",
   "name": "python",
   "nbconvert_exporter": "python",
   "pygments_lexer": "ipython3",
   "version": "3.6.4"
  }
 },
 "nbformat": 4,
 "nbformat_minor": 2
}

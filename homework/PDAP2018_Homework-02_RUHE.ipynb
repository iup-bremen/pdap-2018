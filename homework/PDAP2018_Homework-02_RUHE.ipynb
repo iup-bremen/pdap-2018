{
 "cells": [
  {
   "cell_type": "markdown",
   "metadata": {},
   "source": [
    "# Practical Data Analysis with Python / Summer 2018: Homework assignment 2"
   ]
  },
  {
   "cell_type": "markdown",
   "metadata": {},
   "source": [
    "## Preliminaries\n",
    "\n",
    "Please write your name(s) and matriculatrion number(s) in the following *markdown* cell:"
   ]
  },
  {
   "cell_type": "markdown",
   "metadata": {},
   "source": [
    "Lukas Ruhe\n",
    "2725124"
   ]
  },
  {
   "cell_type": "markdown",
   "metadata": {},
   "source": [
    "## Exploring the `math` module\n",
    "\n",
    "Please answer these questions in the following *markdown* cell:\n",
    "\n",
    "1. What function from the math module can you use to calculate a square root without using `sqrt`?\n",
    "2. Since the library contains this function, why does `sqrt` exist?"
   ]
  },
  {
   "cell_type": "markdown",
   "metadata": {},
   "source": [
    "A square root can also be calculated, without using the math module: \n",
    "\n",
    "    a**(1/2)\n",
    "\n",
    "In the math module a similar function is given:\n",
    "\n",
    "    math.power(a, 1/2)\n",
    "\n",
    "But since the square root is a very often used special case end easier to read, write and remember it's prefered to use the square root function. Creating functions that are just special cases of more complex functions is a common practise in most programming languages. The numpy package also brings a ```sqrt()``` function, that can handle arrays (elementwise) as well."
   ]
  },
  {
   "cell_type": "markdown",
   "metadata": {},
   "source": [
    "Now, please calculate the value of the following expression in the next code cell:\n",
    "\n",
    "$$\\frac{\\sin(23^\\circ)^\\frac{3}{2}}{\\tanh(0.432 \\cdot \\pi)}$$"
   ]
  },
  {
   "cell_type": "code",
   "execution_count": 2,
   "metadata": {},
   "outputs": [
    {
     "data": {
      "text/plain": [
       "0.2873048600593557"
      ]
     },
     "execution_count": 2,
     "metadata": {},
     "output_type": "execute_result"
    }
   ],
   "source": [
    "import numpy as np\n",
    "\n",
    "np.sin(np.power(np.radians(23),3/2))/np.tanh(0.432*np.pi)"
   ]
  },
  {
   "cell_type": "markdown",
   "metadata": {},
   "source": [
    "## Locating the Right Module\n",
    "\n",
    "Suppose that you want to select a random character from a string:\n",
    "\n",
    "    bases = 'ACTTGCTTGAC'\n",
    "\n",
    "Please answer these two questions in the following *markdown* cell:\n",
    "\n",
    "1. Which standard library module could help you?\n",
    "2. Which function would you select from that module? Are there alternatives?"
   ]
  },
  {
   "cell_type": "markdown",
   "metadata": {},
   "source": [
    "```random``` is a standard python module, that brings different functions that return random values.\n",
    "\n",
    "One in this case usefull function would be ```random.randint(0,n)```, which returns a random integer between the givin limits, and can be directly used as index to select a char from the string. There are also other functions that return rand between 0 and 1 that can be mapped or the function choice, that returns a random object of an iterable object such as a list or a string."
   ]
  },
  {
   "cell_type": "markdown",
   "metadata": {},
   "source": [
    "Now, try to write Python code that selects one random character from the string `bases` in the following *code* cell:"
   ]
  },
  {
   "cell_type": "code",
   "execution_count": 6,
   "metadata": {},
   "outputs": [
    {
     "data": {
      "text/plain": [
       "'G'"
      ]
     },
     "execution_count": 6,
     "metadata": {},
     "output_type": "execute_result"
    }
   ],
   "source": [
    "import random as rd\n",
    "\n",
    "bases = 'ACTTGCTTGAC'\n",
    "rd.choice(bases)"
   ]
  },
  {
   "cell_type": "code",
   "execution_count": null,
   "metadata": {},
   "outputs": [],
   "source": []
  }
 ],
 "metadata": {
  "kernelspec": {
   "display_name": "Python 3",
   "language": "python",
   "name": "python3"
  },
  "language_info": {
   "codemirror_mode": {
    "name": "ipython",
    "version": 3
   },
   "file_extension": ".py",
   "mimetype": "text/x-python",
   "name": "python",
   "nbconvert_exporter": "python",
   "pygments_lexer": "ipython3",
   "version": "3.6.4"
  }
 },
 "nbformat": 4,
 "nbformat_minor": 2
}

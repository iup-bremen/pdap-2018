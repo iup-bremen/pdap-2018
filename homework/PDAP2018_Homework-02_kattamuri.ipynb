{
 "cells": [
  {
   "cell_type": "markdown",
   "metadata": {},
   "source": [
    "# Practical Data Analysis with Python / Summer 2018: Homework assignment 2"
   ]
  },
  {
   "cell_type": "markdown",
   "metadata": {},
   "source": [
    "## Preliminaries\n",
    "\n",
    "Please write your name(s) and matriculatrion number(s) in the following *markdown* cell:"
   ]
  },
  {
   "cell_type": "markdown",
   "metadata": {},
   "source": [
    "### Siva Kattamuri\n",
    "\n",
    "### 3085574"
   ]
  },
  {
   "cell_type": "markdown",
   "metadata": {},
   "source": [
    "## Exploring the `math` module\n",
    "\n",
    "Please answer these questions in the following *markdown* cell:\n",
    "\n",
    "1. What function from the math module can you use to calculate a square root without using `sqrt`?\n",
    "2. Since the library contains this function, why does `sqrt` exist?"
   ]
  },
  {
   "cell_type": "markdown",
   "metadata": {},
   "source": [
    "1A. We can use the `pow` function to calculate a square root "
   ]
  },
  {
   "cell_type": "code",
   "execution_count": 8,
   "metadata": {},
   "outputs": [],
   "source": [
    "import math"
   ]
  },
  {
   "cell_type": "code",
   "execution_count": 13,
   "metadata": {},
   "outputs": [
    {
     "name": "stdout",
     "output_type": "stream",
     "text": [
      "5.0\n"
     ]
    }
   ],
   "source": [
    "print(math.pow(25,1/2))"
   ]
  },
  {
   "cell_type": "markdown",
   "metadata": {},
   "source": [
    "2A. I think it is easy to directly use the `sqrt` function to calculate the square root"
   ]
  },
  {
   "cell_type": "code",
   "execution_count": 14,
   "metadata": {},
   "outputs": [
    {
     "name": "stdout",
     "output_type": "stream",
     "text": [
      "5.0\n"
     ]
    }
   ],
   "source": [
    "print(math.sqrt(25))"
   ]
  },
  {
   "cell_type": "markdown",
   "metadata": {},
   "source": [
    "## Now, please calculate the value of the following expression in the next code cell:\n",
    "\n",
    "$$\\frac{\\sin(23^\\circ)^\\frac{3}{2}}{\\tanh(0.432 \\cdot \\pi)}$$"
   ]
  },
  {
   "cell_type": "code",
   "execution_count": 20,
   "metadata": {},
   "outputs": [
    {
     "name": "stdout",
     "output_type": "stream",
     "text": [
      "0.24424012721634186\n",
      "0.8757346006196771\n",
      "0.27889742742095097\n"
     ]
    }
   ],
   "source": [
    "from math import pi\n",
    "\n",
    "x=math.pow(math.sin(23*pi/180),3/2)\n",
    "\n",
    "print(x)\n",
    "\n",
    "y=math.tanh(0.432 *pi)\n",
    "\n",
    "print(y)\n",
    "\n",
    "print(x/y)"
   ]
  },
  {
   "cell_type": "markdown",
   "metadata": {},
   "source": [
    "## Locating the Right Module\n",
    "\n",
    "Suppose that you want to select a random character from a string:\n",
    "\n",
    "    bases = 'ACTTGCTTGAC'\n",
    "\n",
    "Please answer these two questions in the following *markdown* cell:\n",
    "\n",
    "1. Which standard library module could help you?\n",
    "2. Which function would you select from that module? Are there alternatives?"
   ]
  },
  {
   "cell_type": "markdown",
   "metadata": {},
   "source": [
    "1A. We can use the `random` module for this"
   ]
  },
  {
   "cell_type": "markdown",
   "metadata": {},
   "source": [
    "2A. There is a function called `choice` to select a random element from a non-empty sequence. There are other functions like `choices` (which returns a k sized list of elements chosen from the population with replacement) and `sample` (which chooses unique random elements from a sequence.) "
   ]
  },
  {
   "cell_type": "markdown",
   "metadata": {},
   "source": [
    "Now, try to write Python code that selects one random character from the string `bases` in the following *code* cell:"
   ]
  },
  {
   "cell_type": "code",
   "execution_count": 38,
   "metadata": {},
   "outputs": [
    {
     "name": "stdout",
     "output_type": "stream",
     "text": [
      "G\n"
     ]
    }
   ],
   "source": [
    "bases= 'ACTTGCTTGAC'\n",
    "import random\n",
    "print(random.choice(bases))\n"
   ]
  },
  {
   "cell_type": "code",
   "execution_count": 43,
   "metadata": {},
   "outputs": [
    {
     "name": "stdout",
     "output_type": "stream",
     "text": [
      "['C']\n"
     ]
    }
   ],
   "source": [
    "print(random.choices(bases,k=1))"
   ]
  },
  {
   "cell_type": "code",
   "execution_count": 42,
   "metadata": {},
   "outputs": [
    {
     "name": "stdout",
     "output_type": "stream",
     "text": [
      "['T']\n"
     ]
    }
   ],
   "source": [
    "print(random.sample(bases,k=1))"
   ]
  }
 ],
 "metadata": {
  "kernelspec": {
   "display_name": "Python 3",
   "language": "python",
   "name": "python3"
  },
  "language_info": {
   "codemirror_mode": {
    "name": "ipython",
    "version": 3
   },
   "file_extension": ".py",
   "mimetype": "text/x-python",
   "name": "python",
   "nbconvert_exporter": "python",
   "pygments_lexer": "ipython3",
   "version": "3.6.4"
  }
 },
 "nbformat": 4,
 "nbformat_minor": 2
}

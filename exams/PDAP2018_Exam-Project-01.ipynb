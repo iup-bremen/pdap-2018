{
 "cells": [
  {
   "cell_type": "markdown",
   "metadata": {},
   "source": [
    "# PDAP-2018: Exam Homework Exercise 1\n",
    "\n",
    "## Summer term 2018\n",
    "### University of Bremen / Dr. Andreas Hilboll"
   ]
  },
  {
   "cell_type": "markdown",
   "metadata": {},
   "source": [
    "This is the first graded homework assignment for the course *Practical Data Analysis with Python*.  There will be two more graded homework assignment later during the semester; your total course grade will consist of the aggregated grades of all threehomework assignments.\n",
    "\n",
    "## Rules and regulations\n",
    "\n",
    "### When to submit\n",
    "This homework must be submitted by Tuesday, 22 May 2018, 08:00:00 CET\n",
    "\n",
    "### How to submit\n",
    "For now, you can submit this homework assignment by sending the Jupyter notebook (`.ipynb` file) to [hilboll@uni-bremen.de](mailto:hilboll@uni-bremen.de).\n",
    "\n",
    "I will post instructions on how to submit your assignment via GitHub later.\n",
    "\n",
    "**Note:** It is *your* responsibility to make sure that your homework submission reaches me in time.  If in doubt, submit early and ask me if I received your file.\n",
    "\n",
    "### Technical requirements\n",
    "Your solution has to be written to this Jupyter Notebook.  Please rename the notebook so that your last name(s) is/are included in the filename.  Your solution has to consist of exactly one (i.e., this) file.\n",
    "\n",
    "### Study groups\n",
    "You are allowed to complete this homework assignment either alone or in groups of up to two students.  In case you do not do your homework alone, please clearly state who has contributed how much to which part of the homework.\n",
    "\n",
    "### Discussion\n",
    "At the end of the semester, there will be a separate ~20 minute oral discussion for each study group, in which all students are expected be able to demonstrate that they understand the code they submitted.\n",
    "\n",
    "### Using internet resources\n",
    "You are allowed to use book and/or internet resources to complete this homework assignment.  However, you are expected to a) clearly state any reference you have used to complete the assigment (e.g., by giving the URL to a website in a code comment), and b) to be able to explain the code you are writing.\n",
    "\n",
    "### Evaluation criteria\n",
    "You will be graded on all *tasks* laid out below.  There are some possibilities to earn extra credit, clearly indicated in the task description."
   ]
  },
  {
   "cell_type": "markdown",
   "metadata": {},
   "source": [
    "## Background\n",
    "\n",
    "Ozone is often measured using [ozonesondes](https://www.esrl.noaa.gov/gmd/ozwv/ozsondes/).  \n",
    "\n",
    "In this assignment, you will work with ozonesonde measurements from the [Oberpreissenberg observatory](https://www.dwd.de/EN/research/observing_atmosphere/composition_atmosphere/hohenpeissenberg/start_mohp_node.html) in Southern Germany.  The data are available from the [World Ozone and Ultraviolet Radiation Data Centre](https://woudc.org/data/explore.php).\n",
    "\n",
    "\n",
    "## Obtaining the data files\n",
    "\n",
    "The data files needed for this assignment can be downloaded at https://seafile.zfn.uni-bremen.de/f/4579f0c70b0d4368a610/.  Unpack that `.zip` archive to a folder somewhere on your harddrive.\n",
    "\n",
    "\n",
    "## Technical comments\n",
    "\n",
    "- The filename of the data files (`*.csv`) contains information about the date of the flight in its first 8 characters.\n",
    "- The data files contain a lot of metadata which is of no interest in this assignment.  The data that you're interested in comes after the line `#PROFILE`, with one row per individual measurement."
   ]
  },
  {
   "cell_type": "markdown",
   "metadata": {},
   "source": [
    "## Task 0: Participants\n",
    "\n",
    "Please fill in your personal details into the following table:\n",
    "\n",
    "| Last name | First name | Study program | Student ID |\n",
    "|-----------|------------|---------------|------------|\n",
    "| FOO       | Alice      | PEP           | 1234567    |\n",
    "| BAR       | Bob        | SST           | 7654321    |"
   ]
  },
  {
   "cell_type": "markdown",
   "metadata": {},
   "source": [
    "## Task 1: Read the measurements contained in one single data file into a `pandas.DataFrame`\n",
    "\n",
    "Use the function `pandas.read_csv()` to load the data contained in *one single* data file into a `pandas.DataFrame`.  The `DataFrame` should only have the three columns *air_pressure*, *ozone_partial_pressure*, and *air_temperature*, because we are only interested in those three variables.\n",
    "\n",
    "**Hint:**\n",
    "- You can use the `skiprows` argument to the `read_csv` function"
   ]
  },
  {
   "cell_type": "code",
   "execution_count": null,
   "metadata": {
    "collapsed": true
   },
   "outputs": [],
   "source": []
  },
  {
   "cell_type": "markdown",
   "metadata": {},
   "source": [
    "## Task 2: Plot the ozone measurements from one day\n",
    "\n",
    "Create a plot of pressure (on the y-axis) vs. temperature (on the x-axis) for the data you loaded in the previous task."
   ]
  },
  {
   "cell_type": "code",
   "execution_count": null,
   "metadata": {},
   "outputs": [],
   "source": []
  },
  {
   "cell_type": "markdown",
   "metadata": {},
   "source": [
    "## Task 2x (extra credit): Make the plot prettier\n",
    "\n",
    "As above, but make sure that\n",
    "\n",
    "- the plot contains labels on the x- and y-axes, so that the reader can better understand what the plot is showing\n",
    "- the y-axis goes from surface (at the bottom) to top-of-atmosphere (at the top) instead of the other way around, so that the plot is more intuitive"
   ]
  },
  {
   "cell_type": "code",
   "execution_count": null,
   "metadata": {},
   "outputs": [],
   "source": []
  },
  {
   "cell_type": "markdown",
   "metadata": {},
   "source": [
    "## Task 3: Calculate ozone mixing ratio\n",
    "\n",
    "1. Calculate the ozone mixing ratio (in *ppm*) for each measurement from the file you opened above.\n",
    "2. Add the ozone mixing ratio as an additional column to your `DataFrame`\n",
    "3. Create a plot of pressure (on the y-axis) vs. ozone mixing ratio (on the x-axis).\n",
    "\n",
    "**Hint:**\n",
    "\n",
    "- You can calculate the mixing ratio as $\\frac{O_3\\ partial\\ pressure}{air\\ pressure}$"
   ]
  },
  {
   "cell_type": "code",
   "execution_count": null,
   "metadata": {},
   "outputs": [],
   "source": []
  },
  {
   "cell_type": "markdown",
   "metadata": {},
   "source": [
    "## Task 4: Calculate statistics for one sonde flight\n",
    "\n",
    "Write a function that takes a filename as its only input, and which returns the minimum, maximum, and average ozone mixing ratio.\n",
    "\n",
    "Use this function to calculate these statistics for one of the data files."
   ]
  },
  {
   "cell_type": "code",
   "execution_count": null,
   "metadata": {},
   "outputs": [],
   "source": [
    "def calc_o3_statistics(filename):\n",
    "    # write your Python code here ...\n",
    "    "
   ]
  },
  {
   "cell_type": "markdown",
   "metadata": {},
   "source": [
    "## Task 5: Calculate statistics for all sonde flights\n",
    "\n",
    "Using a *for-loop* and the function you wrote above, create a list which contains, for all the data files, the maximum of the respective sonde flight.  So if, e.g., there were 10 data files, the list should have 10 elements.  The list should have the maxmimum from the *first* data file as its first element, and the maximum from the *last* data file as its last element.\n",
    "\n",
    "**Hint:**\n",
    "- You can use the `.sort()` method of a list."
   ]
  },
  {
   "cell_type": "code",
   "execution_count": null,
   "metadata": {},
   "outputs": [],
   "source": []
  },
  {
   "cell_type": "markdown",
   "metadata": {},
   "source": [
    "## Task 6: Plot statistics for all sonde flights\n",
    "\n",
    "Create a plot of maximum ozone mixing ratio (on the y-axis) vs. sonde flight (on the x-axis)."
   ]
  },
  {
   "cell_type": "code",
   "execution_count": null,
   "metadata": {},
   "outputs": [],
   "source": []
  },
  {
   "cell_type": "markdown",
   "metadata": {},
   "source": [
    "## Task 6x (extra credit): Make the plot prettier\n",
    "\n",
    "As above, but label the x- and y-axes.  Also, have the *date* of the measurement (which is part of the filename) as tick labels on the x-axis instead of the filename.  The date should be formatted as \"DD MMM\" (e.g., *02 Feb*).\n",
    "\n",
    "**Hint:**\n",
    "- You can use `datetime.datetime.strptime` to create a *datetime* object from a string, and then use the datetime's `.strftime()` method to create a formatted string from the datetime object."
   ]
  },
  {
   "cell_type": "code",
   "execution_count": null,
   "metadata": {},
   "outputs": [],
   "source": []
  },
  {
   "cell_type": "markdown",
   "metadata": {},
   "source": [
    "## Task 7: Plot all data\n",
    "\n",
    "Using a *for-loop*, create a plot of pressure (on the y-axis) vs. ozone mixing ratio (on the x-axis), with one separate line for each of the sonde flights.  Create a legend which shows the date corresponding to each line.  If possible, give the legend the title *Date*.\n",
    "\n",
    "**Hint:**\n",
    "- Don't worry if the legend takes up almost all the space and nothing is really visible."
   ]
  },
  {
   "cell_type": "code",
   "execution_count": null,
   "metadata": {},
   "outputs": [],
   "source": []
  },
  {
   "cell_type": "markdown",
   "metadata": {},
   "source": [
    "## Task 7x (extra credit): Plot only part of the data\n",
    "\n",
    "As above, but only plot the data which was measured on a *Wednesday*."
   ]
  },
  {
   "cell_type": "code",
   "execution_count": null,
   "metadata": {},
   "outputs": [],
   "source": []
  }
 ],
 "metadata": {
  "kernelspec": {
   "display_name": "Python 3",
   "language": "python",
   "name": "python3"
  },
  "language_info": {
   "codemirror_mode": {
    "name": "ipython",
    "version": 3
   },
   "file_extension": ".py",
   "mimetype": "text/x-python",
   "name": "python",
   "nbconvert_exporter": "python",
   "pygments_lexer": "ipython3",
   "version": "3.6.5"
  }
 },
 "nbformat": 4,
 "nbformat_minor": 2
}
